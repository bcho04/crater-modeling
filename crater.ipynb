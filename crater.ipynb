{
 "cells": [
  {
   "cell_type": "markdown",
   "metadata": {},
   "source": [
    "# Data analysis of Moon crater dimensions and properties"
   ]
  },
  {
   "cell_type": "code",
   "execution_count": 4,
   "metadata": {},
   "outputs": [],
   "source": [
    "import pandas as pd\n",
    "import numpy as np\n",
    "import matplotlib.pyplot as plt"
   ]
  },
  {
   "cell_type": "markdown",
   "metadata": {},
   "source": [
    "## Importing data\n",
    "Read the associated paper [here](http://dx.doi.org/10.1029/2018JE005592). The dataset consists of the set of columns described in Appendix A on page 27.\n",
    "\n",
    "- `CRATER_ID` — Catalog identifier string of the form `XX-X-XXXXXX`.\n",
    "-` LAT_CIRC_IMG` — North latitude in decimal degrees from a circle fit.\n",
    "- `LON_CIRC_IMG` — East longitude in decimal degrees from a circle fit, in the 0–360° domain.\n",
    "- `LAT_ELLI_IMG` — North latitude in decimal degrees from an ellipse fit.\n",
    "- `LON_ELLI_IMG` — East longitude in decimal degrees from an ellipse fit, in 0–360° domain.\n",
    "- `DIAM_CIRC_IMG` — Diameter in kilometers from a circle fit.\n",
    "- `DIAM_CIRC_SD_IMG` — Standard deviation of kilometers of the fit residuals. Each manual rim point’s distance from the crater center was calculated and subtracted from the best-fit radius, and this value is the standard deviation of those differences.\n",
    "- `DIAM_ELLI_MAJOR_IMG` — Major axis in kilometers from an ellipse fit.\n",
    "- `DIAM_ELLI_MINOR_IMG` — Minor axis in kilometers from an ellipse fit.\n",
    "- `DIAM_ELLI_ECCEN_IMG` — Eccentricity (unitless) of the ellipse, calculated as $\\displaystyle \\sqrt{1-\\frac{b^2}{a^2}}$ where a is the major and b the minor axes.\n",
    "- `DIAM_ELLI_ELLIP_IMG` — Ellipticity (unitless) of the ellipse, calculated as $\\displaystyle \\frac{a}{b}$.\n",
    "- `DIAM_ELLI_ANGLE_IMG` — Angle of the fitted ellipse in degrees, counterclockwise from the major axis oriented East-West.\n",
    "- `LAT_ELLI_SD_IMG` — Formal standard error in the ellipse fit’s center latitude, in degrees.\n",
    "- `LON_ELLI_SD_IMG` — Formal standard error in the ellipse fit’s center longitude, in degrees.\n",
    "- `DIAM_ELLI_MAJOR_SD_IMG` — Formal standard error in the ellipse fit’s major axis, in kilometers.\n",
    "- `DIAM_ELLI_MINOR_SD_IMG` — Formal standard error in the ellipse fit’s minor axis, in kilometers.\n",
    "- `DIAM_ELLI_ECCEN_SD_IMG` — Formal standard error in the ellipse fit’s eccentricity (unitless). Uses the method of adding in quadrature, defined as $\\displaystyle \\Delta\\epsilon = \\sqrt{\\left(\\frac{b^2}{a^3}\\frac{1}{\\sqrt{1-b^2/a^2}}\\Delta a\\right)^2 + \\left(-\\frac{b^2}{a}\\frac{1}{\\sqrt{1-b^2/a^2}}\\Delta b\\right)^2}$.\n",
    "- `DIAM_ELLI_ELLIP_SD_IMG` — Formal standard error in the ellipse fit’s ellipticity (unitless). Uses the method of adding in quadrature, defined as $\\displaystyle \\Delta e = \\sqrt{\\left(\\frac{1}{b}\\Delta a\\right)^2 + \\left(-\\frac{a}{b^2}\\Delta b\\right)^2}$.\n",
    "- `DIAM_ELLI_ANGLE_SD_IMG` — Formal standard error in the ellipse fit’s tilt angle, in degrees.\n",
    "- `ARC_IMG` — An estimation of the fraction of the complete rim that was traced. See section 3.5 for more detail.\n",
    "- `PTS_RIM_IMG` — Number of manual points used to identify the crater rim and calculate the circle and ellipse fits."
   ]
  },
  {
   "cell_type": "code",
   "execution_count": 3,
   "metadata": {},
   "outputs": [
    {
     "data": {
      "text/html": [
       "<div>\n",
       "<style scoped>\n",
       "    .dataframe tbody tr th:only-of-type {\n",
       "        vertical-align: middle;\n",
       "    }\n",
       "\n",
       "    .dataframe tbody tr th {\n",
       "        vertical-align: top;\n",
       "    }\n",
       "\n",
       "    .dataframe thead th {\n",
       "        text-align: right;\n",
       "    }\n",
       "</style>\n",
       "<table border=\"1\" class=\"dataframe\">\n",
       "  <thead>\n",
       "    <tr style=\"text-align: right;\">\n",
       "      <th></th>\n",
       "      <th>CRATER_ID</th>\n",
       "      <th>LAT_CIRC_IMG</th>\n",
       "      <th>LON_CIRC_IMG</th>\n",
       "      <th>LAT_ELLI_IMG</th>\n",
       "      <th>LON_ELLI_IMG</th>\n",
       "      <th>DIAM_CIRC_IMG</th>\n",
       "      <th>DIAM_CIRC_SD_IMG</th>\n",
       "      <th>DIAM_ELLI_MAJOR_IMG</th>\n",
       "      <th>DIAM_ELLI_MINOR_IMG</th>\n",
       "      <th>DIAM_ELLI_ECCEN_IMG</th>\n",
       "      <th>...</th>\n",
       "      <th>DIAM_ELLI_ANGLE_IMG</th>\n",
       "      <th>LAT_ELLI_SD_IMG</th>\n",
       "      <th>LON_ELLI_SD_IMG</th>\n",
       "      <th>DIAM_ELLI_MAJOR_SD_IMG</th>\n",
       "      <th>DIAM_ELLI_MINOR_SD_IMG</th>\n",
       "      <th>DIAM_ELLI_ANGLE_SD_IMG</th>\n",
       "      <th>DIAM_ELLI_ECCEN_SD_IMG</th>\n",
       "      <th>DIAM_ELLI_ELLIP_SD_IMG</th>\n",
       "      <th>ARC_IMG</th>\n",
       "      <th>PTS_RIM_IMG</th>\n",
       "    </tr>\n",
       "  </thead>\n",
       "  <tbody>\n",
       "    <tr>\n",
       "      <th>0</th>\n",
       "      <td>00-1-000000</td>\n",
       "      <td>-19.83040</td>\n",
       "      <td>264.7570</td>\n",
       "      <td>-19.89050</td>\n",
       "      <td>264.6650</td>\n",
       "      <td>940.960</td>\n",
       "      <td>21.31790</td>\n",
       "      <td>975.874</td>\n",
       "      <td>905.968</td>\n",
       "      <td>0.371666</td>\n",
       "      <td>...</td>\n",
       "      <td>35.9919</td>\n",
       "      <td>0.007888</td>\n",
       "      <td>0.008424</td>\n",
       "      <td>0.636750</td>\n",
       "      <td>0.560417</td>\n",
       "      <td>0.373749</td>\n",
       "      <td>0.002085</td>\n",
       "      <td>0.000968</td>\n",
       "      <td>0.568712</td>\n",
       "      <td>8088</td>\n",
       "    </tr>\n",
       "    <tr>\n",
       "      <th>1</th>\n",
       "      <td>00-1-000001</td>\n",
       "      <td>44.77630</td>\n",
       "      <td>328.6020</td>\n",
       "      <td>44.40830</td>\n",
       "      <td>329.0460</td>\n",
       "      <td>249.840</td>\n",
       "      <td>5.99621</td>\n",
       "      <td>289.440</td>\n",
       "      <td>245.786</td>\n",
       "      <td>0.528111</td>\n",
       "      <td>...</td>\n",
       "      <td>127.0030</td>\n",
       "      <td>0.011178</td>\n",
       "      <td>0.015101</td>\n",
       "      <td>1.052780</td>\n",
       "      <td>0.209035</td>\n",
       "      <td>0.357296</td>\n",
       "      <td>0.005100</td>\n",
       "      <td>0.004399</td>\n",
       "      <td>0.627328</td>\n",
       "      <td>2785</td>\n",
       "    </tr>\n",
       "    <tr>\n",
       "      <th>2</th>\n",
       "      <td>00-1-000002</td>\n",
       "      <td>57.08660</td>\n",
       "      <td>82.0995</td>\n",
       "      <td>56.90000</td>\n",
       "      <td>81.6464</td>\n",
       "      <td>599.778</td>\n",
       "      <td>21.57900</td>\n",
       "      <td>632.571</td>\n",
       "      <td>561.435</td>\n",
       "      <td>0.460721</td>\n",
       "      <td>...</td>\n",
       "      <td>149.1620</td>\n",
       "      <td>0.008464</td>\n",
       "      <td>0.019515</td>\n",
       "      <td>0.776149</td>\n",
       "      <td>0.747352</td>\n",
       "      <td>0.374057</td>\n",
       "      <td>0.003095</td>\n",
       "      <td>0.002040</td>\n",
       "      <td>0.492373</td>\n",
       "      <td>5199</td>\n",
       "    </tr>\n",
       "    <tr>\n",
       "      <th>3</th>\n",
       "      <td>00-1-000003</td>\n",
       "      <td>1.96124</td>\n",
       "      <td>230.6220</td>\n",
       "      <td>1.95072</td>\n",
       "      <td>230.5880</td>\n",
       "      <td>558.762</td>\n",
       "      <td>14.18190</td>\n",
       "      <td>568.529</td>\n",
       "      <td>546.378</td>\n",
       "      <td>0.276416</td>\n",
       "      <td>...</td>\n",
       "      <td>133.6910</td>\n",
       "      <td>0.007079</td>\n",
       "      <td>0.007839</td>\n",
       "      <td>0.526945</td>\n",
       "      <td>0.532872</td>\n",
       "      <td>1.262710</td>\n",
       "      <td>0.004496</td>\n",
       "      <td>0.001400</td>\n",
       "      <td>0.595221</td>\n",
       "      <td>4341</td>\n",
       "    </tr>\n",
       "    <tr>\n",
       "      <th>4</th>\n",
       "      <td>00-1-000004</td>\n",
       "      <td>-49.14960</td>\n",
       "      <td>266.3470</td>\n",
       "      <td>-49.18330</td>\n",
       "      <td>266.3530</td>\n",
       "      <td>654.332</td>\n",
       "      <td>17.50970</td>\n",
       "      <td>665.240</td>\n",
       "      <td>636.578</td>\n",
       "      <td>0.290365</td>\n",
       "      <td>...</td>\n",
       "      <td>87.6468</td>\n",
       "      <td>0.008827</td>\n",
       "      <td>0.017733</td>\n",
       "      <td>0.568958</td>\n",
       "      <td>0.758631</td>\n",
       "      <td>1.383530</td>\n",
       "      <td>0.004626</td>\n",
       "      <td>0.001533</td>\n",
       "      <td>0.545924</td>\n",
       "      <td>5933</td>\n",
       "    </tr>\n",
       "  </tbody>\n",
       "</table>\n",
       "<p>5 rows × 21 columns</p>\n",
       "</div>"
      ],
      "text/plain": [
       "     CRATER_ID  LAT_CIRC_IMG  LON_CIRC_IMG  LAT_ELLI_IMG  LON_ELLI_IMG  \\\n",
       "0  00-1-000000     -19.83040      264.7570     -19.89050      264.6650   \n",
       "1  00-1-000001      44.77630      328.6020      44.40830      329.0460   \n",
       "2  00-1-000002      57.08660       82.0995      56.90000       81.6464   \n",
       "3  00-1-000003       1.96124      230.6220       1.95072      230.5880   \n",
       "4  00-1-000004     -49.14960      266.3470     -49.18330      266.3530   \n",
       "\n",
       "   DIAM_CIRC_IMG  DIAM_CIRC_SD_IMG  DIAM_ELLI_MAJOR_IMG  DIAM_ELLI_MINOR_IMG  \\\n",
       "0        940.960          21.31790              975.874              905.968   \n",
       "1        249.840           5.99621              289.440              245.786   \n",
       "2        599.778          21.57900              632.571              561.435   \n",
       "3        558.762          14.18190              568.529              546.378   \n",
       "4        654.332          17.50970              665.240              636.578   \n",
       "\n",
       "   DIAM_ELLI_ECCEN_IMG  ...  DIAM_ELLI_ANGLE_IMG  LAT_ELLI_SD_IMG  \\\n",
       "0             0.371666  ...              35.9919         0.007888   \n",
       "1             0.528111  ...             127.0030         0.011178   \n",
       "2             0.460721  ...             149.1620         0.008464   \n",
       "3             0.276416  ...             133.6910         0.007079   \n",
       "4             0.290365  ...              87.6468         0.008827   \n",
       "\n",
       "   LON_ELLI_SD_IMG  DIAM_ELLI_MAJOR_SD_IMG  DIAM_ELLI_MINOR_SD_IMG  \\\n",
       "0         0.008424                0.636750                0.560417   \n",
       "1         0.015101                1.052780                0.209035   \n",
       "2         0.019515                0.776149                0.747352   \n",
       "3         0.007839                0.526945                0.532872   \n",
       "4         0.017733                0.568958                0.758631   \n",
       "\n",
       "   DIAM_ELLI_ANGLE_SD_IMG  DIAM_ELLI_ECCEN_SD_IMG  DIAM_ELLI_ELLIP_SD_IMG  \\\n",
       "0                0.373749                0.002085                0.000968   \n",
       "1                0.357296                0.005100                0.004399   \n",
       "2                0.374057                0.003095                0.002040   \n",
       "3                1.262710                0.004496                0.001400   \n",
       "4                1.383530                0.004626                0.001533   \n",
       "\n",
       "    ARC_IMG  PTS_RIM_IMG  \n",
       "0  0.568712         8088  \n",
       "1  0.627328         2785  \n",
       "2  0.492373         5199  \n",
       "3  0.595221         4341  \n",
       "4  0.545924         5933  \n",
       "\n",
       "[5 rows x 21 columns]"
      ]
     },
     "execution_count": 3,
     "metadata": {},
     "output_type": "execute_result"
    }
   ],
   "source": [
    "PATH_TO_CSV = \"~/Downloads/lunar_crater_database_robbins_2018.csv\"\n",
    "df = pd.read_csv(PATH_TO_CSV)\n",
    "\n",
    "df.head()"
   ]
  },
  {
   "cell_type": "markdown",
   "metadata": {},
   "source": [
    "## Eccentricity distribution"
   ]
  },
  {
   "cell_type": "code",
   "execution_count": 26,
   "metadata": {},
   "outputs": [
    {
     "data": {
      "image/png": "[encoded data removed]",
      "text/plain": [
       "<Figure size 432x288 with 1 Axes>"
      ]
     },
     "metadata": {
      "needs_background": "light"
     },
     "output_type": "display_data"
    }
   ],
   "source": [
    "%matplotlib inline\n",
    "\n",
    "eccentricities = df[\"DIAM_ELLI_ECCEN_IMG\"]\n",
    "\n",
    "plt.hist(eccentricities, bins=np.linspace(0,1,41)) # bin size = 0.025\n",
    "plt.show()"
   ]
  },
  {
   "cell_type": "markdown",
   "metadata": {},
   "source": [
    "## Major axis diameter distribution (km) and circle fit diameter distribution (km)"
   ]
  },
  {
   "cell_type": "code",
   "execution_count": 41,
   "metadata": {},
   "outputs": [
    {
     "data": {
      "image/png": "[encoded data removed]",
      "text/plain": [
       "<Figure size 432x288 with 1 Axes>"
      ]
     },
     "metadata": {
      "needs_background": "light"
     },
     "output_type": "display_data"
    }
   ],
   "source": [
    "%matplotlib inline\n",
    "major_axes = df[\"DIAM_ELLI_MAJOR_IMG\"].dropna()\n",
    "plt.xscale(\"log\")\n",
    "plt.hist(major_axes, bins=np.exp(np.linspace(0,5,51))) # bin size = e^0.1\n",
    "plt.show()"
   ]
  },
  {
   "cell_type": "code",
   "execution_count": 40,
   "metadata": {},
   "outputs": [
    {
     "data": {
      "image/png": "[encoded data removed]",
      "text/plain": [
       "<Figure size 432x288 with 1 Axes>"
      ]
     },
     "metadata": {
      "needs_background": "light"
     },
     "output_type": "display_data"
    }
   ],
   "source": [
    "%matplotlib inline\n",
    "circle_diameters = df[\"DIAM_CIRC_IMG\"].dropna()\n",
    "plt.xscale(\"log\")\n",
    "plt.hist(circle_diameters, bins=np.exp(np.linspace(0,5,51))) # bin size = e^0.1\n",
    "plt.show()"
   ]
  },
  {
   "cell_type": "code",
   "execution_count": 43,
   "metadata": {},
   "outputs": [
    {
     "name": "stdout",
     "output_type": "stream",
     "text": [
      "MAJOR_AXES: 2.6046947061093895 5.787464222230638\n",
      "CIRCLE_DIAMETERS: 2.436963377709368 5.519131133582032\n"
     ]
    }
   ],
   "source": [
    "print(\"MAJOR_AXES:\", np.average(major_axes), np.std(major_axes))\n",
    "print(\"CIRCLE_DIAMETERS:\", np.average(circle_diameters), np.std(circle_diameters))"
   ]
  }
 ],
 "metadata": {
  "kernelspec": {
   "display_name": "Python 3",
   "language": "python",
   "name": "python3"
  },
  "language_info": {
   "codemirror_mode": {
    "name": "ipython",
    "version": 3
   },
   "file_extension": ".py",
   "mimetype": "text/x-python",
   "name": "python",
   "nbconvert_exporter": "python",
   "pygments_lexer": "ipython3",
   "version": "3.7.3"
  }
 },
 "nbformat": 4,
 "nbformat_minor": 4
}
