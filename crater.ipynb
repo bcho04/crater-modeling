{
 "cells": [
  {
   "cell_type": "markdown",
   "metadata": {},
   "source": [
    "# Data analysis of Moon crater dimensions and properties"
   ]
  },
  {
   "cell_type": "code",
   "execution_count": 38,
   "metadata": {},
   "outputs": [],
   "source": [
    "import pandas as pd\n",
    "import numpy as np\n",
    "import matplotlib.pyplot as plt\n",
    "import random"
   ]
  },
  {
   "cell_type": "markdown",
   "metadata": {},
   "source": [
    "## Importing Robbins data\n",
    "Read the associated paper [here](http://dx.doi.org/10.1029/2018JE005592). The dataset consists of the set of columns described in Appendix A on page 27.\n",
    "\n",
    "- `CRATER_ID` — Catalog identifier string of the form `XX-X-XXXXXX`.\n",
    "-` LAT_CIRC_IMG` — North latitude in decimal degrees from a circle fit.\n",
    "- `LON_CIRC_IMG` — East longitude in decimal degrees from a circle fit, in the 0–360° domain.\n",
    "- `LAT_ELLI_IMG` — North latitude in decimal degrees from an ellipse fit.\n",
    "- `LON_ELLI_IMG` — East longitude in decimal degrees from an ellipse fit, in 0–360° domain.\n",
    "- `DIAM_CIRC_IMG` — Diameter in kilometers from a circle fit.\n",
    "- `DIAM_CIRC_SD_IMG` — Standard deviation of kilometers of the fit residuals. Each manual rim point’s distance from the crater center was calculated and subtracted from the best-fit radius, and this value is the standard deviation of those differences.\n",
    "- `DIAM_ELLI_MAJOR_IMG` — Major axis in kilometers from an ellipse fit.\n",
    "- `DIAM_ELLI_MINOR_IMG` — Minor axis in kilometers from an ellipse fit.\n",
    "- `DIAM_ELLI_ECCEN_IMG` — Eccentricity (unitless) of the ellipse, calculated as $\\displaystyle \\sqrt{1-\\frac{b^2}{a^2}}$ where a is the major and b the minor axes.\n",
    "- `DIAM_ELLI_ELLIP_IMG` — Ellipticity (unitless) of the ellipse, calculated as $\\displaystyle \\frac{a}{b}$.\n",
    "- `DIAM_ELLI_ANGLE_IMG` — Angle of the fitted ellipse in degrees, counterclockwise from the major axis oriented East-West.\n",
    "- `LAT_ELLI_SD_IMG` — Formal standard error in the ellipse fit’s center latitude, in degrees.\n",
    "- `LON_ELLI_SD_IMG` — Formal standard error in the ellipse fit’s center longitude, in degrees.\n",
    "- `DIAM_ELLI_MAJOR_SD_IMG` — Formal standard error in the ellipse fit’s major axis, in kilometers.\n",
    "- `DIAM_ELLI_MINOR_SD_IMG` — Formal standard error in the ellipse fit’s minor axis, in kilometers.\n",
    "- `DIAM_ELLI_ECCEN_SD_IMG` — Formal standard error in the ellipse fit’s eccentricity (unitless). Uses the method of adding in quadrature, defined as $\\displaystyle \\Delta\\epsilon = \\sqrt{\\left(\\frac{b^2}{a^3}\\frac{1}{\\sqrt{1-b^2/a^2}}\\Delta a\\right)^2 + \\left(-\\frac{b^2}{a}\\frac{1}{\\sqrt{1-b^2/a^2}}\\Delta b\\right)^2}$.\n",
    "- `DIAM_ELLI_ELLIP_SD_IMG` — Formal standard error in the ellipse fit’s ellipticity (unitless). Uses the method of adding in quadrature, defined as $\\displaystyle \\Delta e = \\sqrt{\\left(\\frac{1}{b}\\Delta a\\right)^2 + \\left(-\\frac{a}{b^2}\\Delta b\\right)^2}$.\n",
    "- `DIAM_ELLI_ANGLE_SD_IMG` — Formal standard error in the ellipse fit’s tilt angle, in degrees.\n",
    "- `ARC_IMG` — An estimation of the fraction of the complete rim that was traced. See section 3.5 for more detail.\n",
    "- `PTS_RIM_IMG` — Number of manual points used to identify the crater rim and calculate the circle and ellipse fits."
   ]
  },
  {
   "cell_type": "code",
   "execution_count": 3,
   "metadata": {},
   "outputs": [
    {
     "data": {
      "text/html": [
       "<div>\n",
       "<style scoped>\n",
       "    .dataframe tbody tr th:only-of-type {\n",
       "        vertical-align: middle;\n",
       "    }\n",
       "\n",
       "    .dataframe tbody tr th {\n",
       "        vertical-align: top;\n",
       "    }\n",
       "\n",
       "    .dataframe thead th {\n",
       "        text-align: right;\n",
       "    }\n",
       "</style>\n",
       "<table border=\"1\" class=\"dataframe\">\n",
       "  <thead>\n",
       "    <tr style=\"text-align: right;\">\n",
       "      <th></th>\n",
       "      <th>CRATER_ID</th>\n",
       "      <th>LAT_CIRC_IMG</th>\n",
       "      <th>LON_CIRC_IMG</th>\n",
       "      <th>LAT_ELLI_IMG</th>\n",
       "      <th>LON_ELLI_IMG</th>\n",
       "      <th>DIAM_CIRC_IMG</th>\n",
       "      <th>DIAM_CIRC_SD_IMG</th>\n",
       "      <th>DIAM_ELLI_MAJOR_IMG</th>\n",
       "      <th>DIAM_ELLI_MINOR_IMG</th>\n",
       "      <th>DIAM_ELLI_ECCEN_IMG</th>\n",
       "      <th>...</th>\n",
       "      <th>DIAM_ELLI_ANGLE_IMG</th>\n",
       "      <th>LAT_ELLI_SD_IMG</th>\n",
       "      <th>LON_ELLI_SD_IMG</th>\n",
       "      <th>DIAM_ELLI_MAJOR_SD_IMG</th>\n",
       "      <th>DIAM_ELLI_MINOR_SD_IMG</th>\n",
       "      <th>DIAM_ELLI_ANGLE_SD_IMG</th>\n",
       "      <th>DIAM_ELLI_ECCEN_SD_IMG</th>\n",
       "      <th>DIAM_ELLI_ELLIP_SD_IMG</th>\n",
       "      <th>ARC_IMG</th>\n",
       "      <th>PTS_RIM_IMG</th>\n",
       "    </tr>\n",
       "  </thead>\n",
       "  <tbody>\n",
       "    <tr>\n",
       "      <th>0</th>\n",
       "      <td>00-1-000000</td>\n",
       "      <td>-19.83040</td>\n",
       "      <td>264.7570</td>\n",
       "      <td>-19.89050</td>\n",
       "      <td>264.6650</td>\n",
       "      <td>940.960</td>\n",
       "      <td>21.31790</td>\n",
       "      <td>975.874</td>\n",
       "      <td>905.968</td>\n",
       "      <td>0.371666</td>\n",
       "      <td>...</td>\n",
       "      <td>35.9919</td>\n",
       "      <td>0.007888</td>\n",
       "      <td>0.008424</td>\n",
       "      <td>0.636750</td>\n",
       "      <td>0.560417</td>\n",
       "      <td>0.373749</td>\n",
       "      <td>0.002085</td>\n",
       "      <td>0.000968</td>\n",
       "      <td>0.568712</td>\n",
       "      <td>8088</td>\n",
       "    </tr>\n",
       "    <tr>\n",
       "      <th>1</th>\n",
       "      <td>00-1-000001</td>\n",
       "      <td>44.77630</td>\n",
       "      <td>328.6020</td>\n",
       "      <td>44.40830</td>\n",
       "      <td>329.0460</td>\n",
       "      <td>249.840</td>\n",
       "      <td>5.99621</td>\n",
       "      <td>289.440</td>\n",
       "      <td>245.786</td>\n",
       "      <td>0.528111</td>\n",
       "      <td>...</td>\n",
       "      <td>127.0030</td>\n",
       "      <td>0.011178</td>\n",
       "      <td>0.015101</td>\n",
       "      <td>1.052780</td>\n",
       "      <td>0.209035</td>\n",
       "      <td>0.357296</td>\n",
       "      <td>0.005100</td>\n",
       "      <td>0.004399</td>\n",
       "      <td>0.627328</td>\n",
       "      <td>2785</td>\n",
       "    </tr>\n",
       "    <tr>\n",
       "      <th>2</th>\n",
       "      <td>00-1-000002</td>\n",
       "      <td>57.08660</td>\n",
       "      <td>82.0995</td>\n",
       "      <td>56.90000</td>\n",
       "      <td>81.6464</td>\n",
       "      <td>599.778</td>\n",
       "      <td>21.57900</td>\n",
       "      <td>632.571</td>\n",
       "      <td>561.435</td>\n",
       "      <td>0.460721</td>\n",
       "      <td>...</td>\n",
       "      <td>149.1620</td>\n",
       "      <td>0.008464</td>\n",
       "      <td>0.019515</td>\n",
       "      <td>0.776149</td>\n",
       "      <td>0.747352</td>\n",
       "      <td>0.374057</td>\n",
       "      <td>0.003095</td>\n",
       "      <td>0.002040</td>\n",
       "      <td>0.492373</td>\n",
       "      <td>5199</td>\n",
       "    </tr>\n",
       "    <tr>\n",
       "      <th>3</th>\n",
       "      <td>00-1-000003</td>\n",
       "      <td>1.96124</td>\n",
       "      <td>230.6220</td>\n",
       "      <td>1.95072</td>\n",
       "      <td>230.5880</td>\n",
       "      <td>558.762</td>\n",
       "      <td>14.18190</td>\n",
       "      <td>568.529</td>\n",
       "      <td>546.378</td>\n",
       "      <td>0.276416</td>\n",
       "      <td>...</td>\n",
       "      <td>133.6910</td>\n",
       "      <td>0.007079</td>\n",
       "      <td>0.007839</td>\n",
       "      <td>0.526945</td>\n",
       "      <td>0.532872</td>\n",
       "      <td>1.262710</td>\n",
       "      <td>0.004496</td>\n",
       "      <td>0.001400</td>\n",
       "      <td>0.595221</td>\n",
       "      <td>4341</td>\n",
       "    </tr>\n",
       "    <tr>\n",
       "      <th>4</th>\n",
       "      <td>00-1-000004</td>\n",
       "      <td>-49.14960</td>\n",
       "      <td>266.3470</td>\n",
       "      <td>-49.18330</td>\n",
       "      <td>266.3530</td>\n",
       "      <td>654.332</td>\n",
       "      <td>17.50970</td>\n",
       "      <td>665.240</td>\n",
       "      <td>636.578</td>\n",
       "      <td>0.290365</td>\n",
       "      <td>...</td>\n",
       "      <td>87.6468</td>\n",
       "      <td>0.008827</td>\n",
       "      <td>0.017733</td>\n",
       "      <td>0.568958</td>\n",
       "      <td>0.758631</td>\n",
       "      <td>1.383530</td>\n",
       "      <td>0.004626</td>\n",
       "      <td>0.001533</td>\n",
       "      <td>0.545924</td>\n",
       "      <td>5933</td>\n",
       "    </tr>\n",
       "  </tbody>\n",
       "</table>\n",
       "<p>5 rows × 21 columns</p>\n",
       "</div>"
      ],
      "text/plain": [
       "     CRATER_ID  LAT_CIRC_IMG  LON_CIRC_IMG  LAT_ELLI_IMG  LON_ELLI_IMG  \\\n",
       "0  00-1-000000     -19.83040      264.7570     -19.89050      264.6650   \n",
       "1  00-1-000001      44.77630      328.6020      44.40830      329.0460   \n",
       "2  00-1-000002      57.08660       82.0995      56.90000       81.6464   \n",
       "3  00-1-000003       1.96124      230.6220       1.95072      230.5880   \n",
       "4  00-1-000004     -49.14960      266.3470     -49.18330      266.3530   \n",
       "\n",
       "   DIAM_CIRC_IMG  DIAM_CIRC_SD_IMG  DIAM_ELLI_MAJOR_IMG  DIAM_ELLI_MINOR_IMG  \\\n",
       "0        940.960          21.31790              975.874              905.968   \n",
       "1        249.840           5.99621              289.440              245.786   \n",
       "2        599.778          21.57900              632.571              561.435   \n",
       "3        558.762          14.18190              568.529              546.378   \n",
       "4        654.332          17.50970              665.240              636.578   \n",
       "\n",
       "   DIAM_ELLI_ECCEN_IMG  ...  DIAM_ELLI_ANGLE_IMG  LAT_ELLI_SD_IMG  \\\n",
       "0             0.371666  ...              35.9919         0.007888   \n",
       "1             0.528111  ...             127.0030         0.011178   \n",
       "2             0.460721  ...             149.1620         0.008464   \n",
       "3             0.276416  ...             133.6910         0.007079   \n",
       "4             0.290365  ...              87.6468         0.008827   \n",
       "\n",
       "   LON_ELLI_SD_IMG  DIAM_ELLI_MAJOR_SD_IMG  DIAM_ELLI_MINOR_SD_IMG  \\\n",
       "0         0.008424                0.636750                0.560417   \n",
       "1         0.015101                1.052780                0.209035   \n",
       "2         0.019515                0.776149                0.747352   \n",
       "3         0.007839                0.526945                0.532872   \n",
       "4         0.017733                0.568958                0.758631   \n",
       "\n",
       "   DIAM_ELLI_ANGLE_SD_IMG  DIAM_ELLI_ECCEN_SD_IMG  DIAM_ELLI_ELLIP_SD_IMG  \\\n",
       "0                0.373749                0.002085                0.000968   \n",
       "1                0.357296                0.005100                0.004399   \n",
       "2                0.374057                0.003095                0.002040   \n",
       "3                1.262710                0.004496                0.001400   \n",
       "4                1.383530                0.004626                0.001533   \n",
       "\n",
       "    ARC_IMG  PTS_RIM_IMG  \n",
       "0  0.568712         8088  \n",
       "1  0.627328         2785  \n",
       "2  0.492373         5199  \n",
       "3  0.595221         4341  \n",
       "4  0.545924         5933  \n",
       "\n",
       "[5 rows x 21 columns]"
      ]
     },
     "execution_count": 3,
     "metadata": {},
     "output_type": "execute_result"
    }
   ],
   "source": [
    "PATH_TO_ROBBINS_CSV = \"~/Downloads/lunar_crater_database_robbins_2018.csv\"\n",
    "rb = pd.read_csv(PATH_TO_ROBBINS_CSV)\n",
    "\n",
    "rb.head()"
   ]
  },
  {
   "cell_type": "markdown",
   "metadata": {},
   "source": [
    "## Eccentricity distribution"
   ]
  },
  {
   "cell_type": "code",
   "execution_count": 4,
   "metadata": {},
   "outputs": [
    {
     "data": {
      "image/png": "[encoded data removed]",
      "text/plain": [
       "<Figure size 432x288 with 1 Axes>"
      ]
     },
     "metadata": {
      "needs_background": "light"
     },
     "output_type": "display_data"
    }
   ],
   "source": [
    "%matplotlib inline\n",
    "\n",
    "eccentricities = rb[\"DIAM_ELLI_ECCEN_IMG\"].dropna()\n",
    "\n",
    "plt.hist(eccentricities, bins=np.linspace(0,1,41)) # bin size = 0.025\n",
    "plt.show()"
   ]
  },
  {
   "cell_type": "code",
   "execution_count": 9,
   "metadata": {},
   "outputs": [
    {
     "data": {
      "text/plain": [
       "0.45316375849140694"
      ]
     },
     "execution_count": 9,
     "metadata": {},
     "output_type": "execute_result"
    }
   ],
   "source": [
    "np.average(eccentricities)"
   ]
  },
  {
   "cell_type": "markdown",
   "metadata": {},
   "source": [
    "## Major axis diameter distribution (km) and circle fit diameter distribution (km)"
   ]
  },
  {
   "cell_type": "code",
   "execution_count": 6,
   "metadata": {},
   "outputs": [
    {
     "data": {
      "image/png": "[encoded data removed]",
      "text/plain": [
       "<Figure size 432x288 with 1 Axes>"
      ]
     },
     "metadata": {
      "needs_background": "light"
     },
     "output_type": "display_data"
    }
   ],
   "source": [
    "%matplotlib inline\n",
    "major_axes = rb[\"DIAM_ELLI_MAJOR_IMG\"].dropna()\n",
    "plt.xscale(\"log\")\n",
    "plt.hist(major_axes, bins=np.exp(np.linspace(0,5,51))) # bin size = e^0.1\n",
    "plt.show()"
   ]
  },
  {
   "cell_type": "code",
   "execution_count": 7,
   "metadata": {},
   "outputs": [
    {
     "data": {
      "image/png": "[encoded data removed]",
      "text/plain": [
       "<Figure size 432x288 with 1 Axes>"
      ]
     },
     "metadata": {
      "needs_background": "light"
     },
     "output_type": "display_data"
    }
   ],
   "source": [
    "%matplotlib inline\n",
    "circle_diameters = rb[\"DIAM_CIRC_IMG\"].dropna()\n",
    "plt.xscale(\"log\")\n",
    "plt.hist(circle_diameters, bins=np.exp(np.linspace(0,5,51))) # bin size = e^0.1\n",
    "plt.show()"
   ]
  },
  {
   "cell_type": "code",
   "execution_count": 8,
   "metadata": {},
   "outputs": [
    {
     "name": "stdout",
     "output_type": "stream",
     "text": [
      "MAJOR_AXES: 2.6046947061093895 5.787464222230638\n",
      "CIRCLE_DIAMETERS: 2.436963377709368 5.519131133582032\n"
     ]
    }
   ],
   "source": [
    "print(\"MAJOR_AXES:\", np.average(major_axes), np.std(major_axes))\n",
    "print(\"CIRCLE_DIAMETERS:\", np.average(circle_diameters), np.std(circle_diameters))"
   ]
  },
  {
   "cell_type": "markdown",
   "metadata": {},
   "source": [
    "## Importing Salamunićcar data"
   ]
  },
  {
   "cell_type": "code",
   "execution_count": 24,
   "metadata": {},
   "outputs": [
    {
     "data": {
      "text/html": [
       "<div>\n",
       "<style scoped>\n",
       "    .dataframe tbody tr th:only-of-type {\n",
       "        vertical-align: middle;\n",
       "    }\n",
       "\n",
       "    .dataframe tbody tr th {\n",
       "        vertical-align: top;\n",
       "    }\n",
       "\n",
       "    .dataframe thead th {\n",
       "        text-align: right;\n",
       "    }\n",
       "</style>\n",
       "<table border=\"1\" class=\"dataframe\">\n",
       "  <thead>\n",
       "    <tr style=\"text-align: right;\">\n",
       "      <th></th>\n",
       "      <th>gt_name_id</th>\n",
       "      <th>x</th>\n",
       "      <th>y</th>\n",
       "      <th>r</th>\n",
       "      <th>D[km]</th>\n",
       "      <th>D[range]</th>\n",
       "      <th>p</th>\n",
       "      <th>name</th>\n",
       "      <th>idxs(LU_LASGW)</th>\n",
       "      <th>idxs(LU_CLEMBASE_FIXED)</th>\n",
       "      <th>idxs(LU_LOM)</th>\n",
       "      <th>depth/diameter (1/128°LOLA, quad_precision=1)</th>\n",
       "      <th>depth/diameter (1/256°LOLA, quad_precision=1)</th>\n",
       "      <th>depth/diameter (1/512°LOLA, quad_precision=1)</th>\n",
       "    </tr>\n",
       "  </thead>\n",
       "  <tbody>\n",
       "    <tr>\n",
       "      <th>0</th>\n",
       "      <td>S000001N06902R00074H04373Y2010S</td>\n",
       "      <td>-155.40000</td>\n",
       "      <td>85.200000</td>\n",
       "      <td>2.918543</td>\n",
       "      <td>177.000</td>\n",
       "      <td>14</td>\n",
       "      <td>1</td>\n",
       "      <td>Rozhdestvenskiy r: Рождественский</td>\n",
       "      <td>0,0</td>\n",
       "      <td>0,0</td>\n",
       "      <td>0,0</td>\n",
       "      <td>0.014770</td>\n",
       "      <td>0.014798</td>\n",
       "      <td>0.014791</td>\n",
       "    </tr>\n",
       "    <tr>\n",
       "      <th>1</th>\n",
       "      <td>S000002N03521R00435H04374Y2010S</td>\n",
       "      <td>-93.37462</td>\n",
       "      <td>86.133947</td>\n",
       "      <td>1.792975</td>\n",
       "      <td>108.738</td>\n",
       "      <td>13</td>\n",
       "      <td>1</td>\n",
       "      <td>Hermite r: Эрмит</td>\n",
       "      <td>0,0</td>\n",
       "      <td>0,0</td>\n",
       "      <td>0,0</td>\n",
       "      <td>0.016103</td>\n",
       "      <td>0.016170</td>\n",
       "      <td>0.016143</td>\n",
       "    </tr>\n",
       "    <tr>\n",
       "      <th>2</th>\n",
       "      <td>S000003N05932R00694H04377Y2010S</td>\n",
       "      <td>33.00000</td>\n",
       "      <td>88.600000</td>\n",
       "      <td>1.203693</td>\n",
       "      <td>73.000</td>\n",
       "      <td>12</td>\n",
       "      <td>1</td>\n",
       "      <td>Peary r: Пири</td>\n",
       "      <td>0,0</td>\n",
       "      <td>0,0</td>\n",
       "      <td>0,0</td>\n",
       "      <td>0.009003</td>\n",
       "      <td>0.009110</td>\n",
       "      <td>0.009084</td>\n",
       "    </tr>\n",
       "    <tr>\n",
       "      <th>3</th>\n",
       "      <td>S000004N01217R00434H04385Y2010S</td>\n",
       "      <td>9.80000</td>\n",
       "      <td>85.300000</td>\n",
       "      <td>1.533472</td>\n",
       "      <td>93.000</td>\n",
       "      <td>13</td>\n",
       "      <td>1</td>\n",
       "      <td>Byrd r: Бэрд</td>\n",
       "      <td>0,0</td>\n",
       "      <td>0,0</td>\n",
       "      <td>0,0</td>\n",
       "      <td>0.007721</td>\n",
       "      <td>0.007613</td>\n",
       "      <td>0.007688</td>\n",
       "    </tr>\n",
       "    <tr>\n",
       "      <th>4</th>\n",
       "      <td>S000005N05499R00156H04415Y2010S</td>\n",
       "      <td>95.59174</td>\n",
       "      <td>81.052616</td>\n",
       "      <td>1.777350</td>\n",
       "      <td>107.790</td>\n",
       "      <td>13</td>\n",
       "      <td>1</td>\n",
       "      <td>Nansen r: Нансен</td>\n",
       "      <td>0,0</td>\n",
       "      <td>0,0</td>\n",
       "      <td>0,0</td>\n",
       "      <td>0.024764</td>\n",
       "      <td>0.024977</td>\n",
       "      <td>0.024985</td>\n",
       "    </tr>\n",
       "  </tbody>\n",
       "</table>\n",
       "</div>"
      ],
      "text/plain": [
       "                        gt_name_id          x          y         r    D[km]  \\\n",
       "0  S000001N06902R00074H04373Y2010S -155.40000  85.200000  2.918543  177.000   \n",
       "1  S000002N03521R00435H04374Y2010S  -93.37462  86.133947  1.792975  108.738   \n",
       "2  S000003N05932R00694H04377Y2010S   33.00000  88.600000  1.203693   73.000   \n",
       "3  S000004N01217R00434H04385Y2010S    9.80000  85.300000  1.533472   93.000   \n",
       "4  S000005N05499R00156H04415Y2010S   95.59174  81.052616  1.777350  107.790   \n",
       "\n",
       "   D[range]  p                               name idxs(LU_LASGW)  \\\n",
       "0        14  1  Rozhdestvenskiy r: Рождественский            0,0   \n",
       "1        13  1                   Hermite r: Эрмит            0,0   \n",
       "2        12  1                      Peary r: Пири            0,0   \n",
       "3        13  1                       Byrd r: Бэрд            0,0   \n",
       "4        13  1                   Nansen r: Нансен            0,0   \n",
       "\n",
       "  idxs(LU_CLEMBASE_FIXED) idxs(LU_LOM)  \\\n",
       "0                     0,0          0,0   \n",
       "1                     0,0          0,0   \n",
       "2                     0,0          0,0   \n",
       "3                     0,0          0,0   \n",
       "4                     0,0          0,0   \n",
       "\n",
       "   depth/diameter (1/128°LOLA, quad_precision=1)  \\\n",
       "0                                       0.014770   \n",
       "1                                       0.016103   \n",
       "2                                       0.009003   \n",
       "3                                       0.007721   \n",
       "4                                       0.024764   \n",
       "\n",
       "   depth/diameter (1/256°LOLA, quad_precision=1)  \\\n",
       "0                                       0.014798   \n",
       "1                                       0.016170   \n",
       "2                                       0.009110   \n",
       "3                                       0.007613   \n",
       "4                                       0.024977   \n",
       "\n",
       "   depth/diameter (1/512°LOLA, quad_precision=1)  \n",
       "0                                       0.014791  \n",
       "1                                       0.016143  \n",
       "2                                       0.009084  \n",
       "3                                       0.007688  \n",
       "4                                       0.024985  "
      ]
     },
     "execution_count": 24,
     "metadata": {},
     "output_type": "execute_result"
    }
   ],
   "source": [
    "PATH_TO_SALAMUNICCAR_XLSX = \"~/Downloads/GoranSalamuniccar_MoonCraters/LU78287GT.xlsx\"\n",
    "sm = pd.read_excel(PATH_TO_SALAMUNICCAR_XLSX, \"LU60645GT\")\n",
    "\n",
    "sm.head()"
   ]
  },
  {
   "cell_type": "code",
   "execution_count": 28,
   "metadata": {},
   "outputs": [
    {
     "data": {
      "image/png": "[encoded data removed]",
      "text/plain": [
       "<Figure size 432x288 with 1 Axes>"
      ]
     },
     "metadata": {
      "needs_background": "light"
     },
     "output_type": "display_data"
    }
   ],
   "source": [
    "plt.hist(sm[\"depth/diameter (1/512°LOLA, quad_precision=1)\"], bins=100)\n",
    "plt.show()"
   ]
  },
  {
   "cell_type": "code",
   "execution_count": 43,
   "metadata": {},
   "outputs": [
    {
     "data": {
      "image/png": "[encoded data removed]",
      "text/plain": [
       "<Figure size 432x288 with 1 Axes>"
      ]
     },
     "metadata": {
      "needs_background": "light"
     },
     "output_type": "display_data"
    }
   ],
   "source": [
    "# Randomly sample 100 craters and plot dep/diam over D\n",
    "\n",
    "combined = list(zip(sm[\"D[km]\"], sm[\"depth/diameter (1/512°LOLA, quad_precision=1)\"]))\n",
    "combined_sample = random.sample(combined, 100)\n",
    "graph_x, graph_y = np.array(combined_sample)[:,0], np.array(combined_sample)[:,1]\n",
    "\n",
    "plt.xscale(\"log\")\n",
    "plt.scatter(graph_x, graph_y)\n",
    "plt.show()"
   ]
  },
  {
   "cell_type": "code",
   "execution_count": 60,
   "metadata": {},
   "outputs": [],
   "source": [
    "# bin data rows by diameter (100 bins with size 10)\n",
    "bins = {x: [] for x in range(0,2100,10)}\n",
    "for index, row in sm.iterrows():\n",
    "    bins[round(row[\"D[km]\"]/10)*10].append(row[\"depth/diameter (1/512°LOLA, quad_precision=1)\"])\n",
    "    \n",
    "for index in bins.keys():\n",
    "    bins[index] = np.average(bins[index])\n",
    "\n",
    "graph_x, graph_y = zip(*list(bins.items()))"
   ]
  },
  {
   "cell_type": "code",
   "execution_count": 65,
   "metadata": {},
   "outputs": [
    {
     "data": {
      "image/png": "[encoded data removed]",
      "text/plain": [
       "<Figure size 432x288 with 1 Axes>"
      ]
     },
     "metadata": {
      "needs_background": "light"
     },
     "output_type": "display_data"
    }
   ],
   "source": [
    "# Note that depth tends to be constant.\n",
    "plt.scatter(graph_x, graph_y)\n",
    "plt.axis((-100,2100,-0.005,0.1))\n",
    "plt.plot([x for x in range(1,2100)], [2.5/x for x in range(1,2100)])\n",
    "plt.show()"
   ]
  },
  {
   "cell_type": "code",
   "execution_count": 88,
   "metadata": {},
   "outputs": [
    {
     "name": "stderr",
     "output_type": "stream",
     "text": [
      "/Users/bracho/Library/Python/3.7/lib/python/site-packages/ipykernel_launcher.py:4: RuntimeWarning: divide by zero encountered in double_scalars\n",
      "  after removing the cwd from sys.path.\n"
     ]
    },
    {
     "data": {
      "image/png": "[encoded data removed]",
      "text/plain": [
       "<Figure size 432x288 with 1 Axes>"
      ]
     },
     "metadata": {
      "needs_background": "light"
     },
     "output_type": "display_data"
    }
   ],
   "source": [
    "# d/D * D\n",
    "depth = sm[\"depth/diameter (1/512°LOLA, quad_precision=1)\"] * sm[\"D[km]\"]\n",
    "plt.hist(depth, bins=np.linspace(0,5,51))\n",
    "plt.plot(np.linspace(0,5,51), [15800/(x*10) for x in np.linspace(0,5,51)]) # Zipfian distribution\n",
    "plt.show()"
   ]
  },
  {
   "cell_type": "code",
   "execution_count": 89,
   "metadata": {},
   "outputs": [
    {
     "data": {
      "text/plain": [
       "0.308067494977272"
      ]
     },
     "execution_count": 89,
     "metadata": {},
     "output_type": "execute_result"
    }
   ],
   "source": [
    "np.median(depth)"
   ]
  },
  {
   "cell_type": "code",
   "execution_count": null,
   "metadata": {},
   "outputs": [],
   "source": []
  }
 ],
 "metadata": {
  "kernelspec": {
   "display_name": "Python 3",
   "language": "python",
   "name": "python3"
  },
  "language_info": {
   "codemirror_mode": {
    "name": "ipython",
    "version": 3
   },
   "file_extension": ".py",
   "mimetype": "text/x-python",
   "name": "python",
   "nbconvert_exporter": "python",
   "pygments_lexer": "ipython3",
   "version": "3.7.3"
  }
 },
 "nbformat": 4,
 "nbformat_minor": 4
}
